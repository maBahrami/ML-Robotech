{
 "cells": [
  {
   "cell_type": "markdown",
   "id": "d047a94d-5b46-4bde-8686-810253eab2f3",
   "metadata": {},
   "source": [
    "# <div style=\"direction:rtl\"><font face=\"IRANSans\" size=\"2\"> تمرین سری اول </font></div>\n",
    "<div style=\"direction:rtl\"><font face=\"IRANSans\" size=\"2\"> در این تمرین ما میخوایم با دیتافریم ها آشنا شویم </font></div>\n",
    "<br>\n",
    "\n",
    "<div style=\"direction:rtl\"><font face=\"IRANSans\" size=\"2\"><b> دیتافریم </b></font></div>\n",
    "\n",
    "<div style=\"direction:rtl\"><font face=\"IRANSans\" size=\"2\"> ما میتوانیم دیتافریم را با روشهای مختلف بسازیم: </font></div>\n",
    "\n",
    "<div style=\"direction:rtl\"> Lists, dicts, Series, Numpy ndarrays </div>\n",
    "<br>\n",
    "<br>\n",
    "\n",
    "<div style=\"direction:rtl\"><font face=\"IRANSans\" size=\"2\"> اول کتابخانه های مورد نیاز را بارگزاری میکنیم: </font></div>"
   ]
  },
  {
   "cell_type": "code",
   "execution_count": 9,
   "id": "a1db75c2-ae34-45eb-8414-c13bba0f1ee0",
   "metadata": {},
   "outputs": [],
   "source": [
    "# import necessary libraries\n",
    "import pandas as pd\n",
    "import numpy as np\n"
   ]
  },
  {
   "cell_type": "markdown",
   "id": "6df69113-a4f9-4ec2-93a0-20534171b255",
   "metadata": {},
   "source": [
    "# <span style='background:yellow'><font face=\"IRANSans\" size=\"2\"> <div style=\"direction:rtl\">قسمت اول- ساخت دیتافریم با لیست</div></span>\n",
    "\n",
    "## <div style=\"direction:rtl\"><font face=\"IRANSans\" size=\"2\"> سوال اول- لیستی از اعداد </div>\n",
    "\n",
    "<div style=\"direction:rtl\">در این تمرین شما باید:</div>\n",
    "<div style=\"direction:rtl\"><font face=\"IRANSans\" size=\"2\"> &emsp;۱- لیستی از اعداد بسازید</div>\n",
    "<div style=\"direction:rtl\"><font face=\"IRANSans\" size=\"2\">&emsp;۲- از لیست دیتافریم بسازید</div>\n",
    "<div style=\"direction:rtl\"><font face=\"IRANSans\" size=\"2\"> &emsp;۳- آن را پرینت کنید</div>\n"
   ]
  },
  {
   "cell_type": "code",
   "execution_count": 11,
   "id": "b722065e-7a65-4f46-be55-06e68b339a0c",
   "metadata": {},
   "outputs": [
    {
     "data": {
      "text/html": [
       "<div>\n",
       "<style scoped>\n",
       "    .dataframe tbody tr th:only-of-type {\n",
       "        vertical-align: middle;\n",
       "    }\n",
       "\n",
       "    .dataframe tbody tr th {\n",
       "        vertical-align: top;\n",
       "    }\n",
       "\n",
       "    .dataframe thead th {\n",
       "        text-align: right;\n",
       "    }\n",
       "</style>\n",
       "<table border=\"1\" class=\"dataframe\">\n",
       "  <thead>\n",
       "    <tr style=\"text-align: right;\">\n",
       "      <th></th>\n",
       "      <th>0</th>\n",
       "    </tr>\n",
       "  </thead>\n",
       "  <tbody>\n",
       "    <tr>\n",
       "      <th>0</th>\n",
       "      <td>1</td>\n",
       "    </tr>\n",
       "    <tr>\n",
       "      <th>1</th>\n",
       "      <td>5</td>\n",
       "    </tr>\n",
       "    <tr>\n",
       "      <th>2</th>\n",
       "      <td>6</td>\n",
       "    </tr>\n",
       "    <tr>\n",
       "      <th>3</th>\n",
       "      <td>7</td>\n",
       "    </tr>\n",
       "    <tr>\n",
       "      <th>4</th>\n",
       "      <td>8</td>\n",
       "    </tr>\n",
       "    <tr>\n",
       "      <th>5</th>\n",
       "      <td>3</td>\n",
       "    </tr>\n",
       "  </tbody>\n",
       "</table>\n",
       "</div>"
      ],
      "text/plain": [
       "   0\n",
       "0  1\n",
       "1  5\n",
       "2  6\n",
       "3  7\n",
       "4  8\n",
       "5  3"
      ]
     },
     "execution_count": 11,
     "metadata": {},
     "output_type": "execute_result"
    }
   ],
   "source": [
    "# create an empty list\n",
    "data = []\n",
    "\n",
    "# TODO: add numbers to the data list\n",
    "# put your code here\n",
    "data = [1, 5, 6, 7, 8, 3]\n",
    "# TODO: create a dataframe from the data list, then print it\n",
    "# put your code here\n",
    "df = pd.DataFrame(data)\n",
    "df"
   ]
  },
  {
   "cell_type": "markdown",
   "id": "8273fab4-f1ea-42e4-86c2-b9034f429e0d",
   "metadata": {},
   "source": [
    "## <div style=\"direction:rtl\">سوال دوم- لیستی از لیست ها</div>\n",
    "\n",
    "<div style=\"direction:rtl\">در این تمرین شما باید:</div>\n",
    "<div style=\"direction:rtl\">&emsp;۱- لیستی از اعداد و رشته ها بسازید</div>\n",
    "<div style=\"direction:rtl\">&emsp;۲- از لیست دیتافریم بسازید و برای هر ستون اسمی بگذارید</div>\n",
    "<div style=\"direction:rtl\">&emsp;۳- آن را پرینت کنید</div>"
   ]
  },
  {
   "cell_type": "code",
   "execution_count": 20,
   "id": "a98c79e1-56d3-4c6d-acdf-30d9867e8d64",
   "metadata": {},
   "outputs": [
    {
     "data": {
      "text/html": [
       "<div>\n",
       "<style scoped>\n",
       "    .dataframe tbody tr th:only-of-type {\n",
       "        vertical-align: middle;\n",
       "    }\n",
       "\n",
       "    .dataframe tbody tr th {\n",
       "        vertical-align: top;\n",
       "    }\n",
       "\n",
       "    .dataframe thead th {\n",
       "        text-align: right;\n",
       "    }\n",
       "</style>\n",
       "<table border=\"1\" class=\"dataframe\">\n",
       "  <thead>\n",
       "    <tr style=\"text-align: right;\">\n",
       "      <th></th>\n",
       "      <th>col1</th>\n",
       "      <th>col2</th>\n",
       "      <th>col3</th>\n",
       "    </tr>\n",
       "  </thead>\n",
       "  <tbody>\n",
       "    <tr>\n",
       "      <th>0</th>\n",
       "      <td>a</td>\n",
       "      <td>5</td>\n",
       "      <td>6</td>\n",
       "    </tr>\n",
       "    <tr>\n",
       "      <th>1</th>\n",
       "      <td>b</td>\n",
       "      <td>7</td>\n",
       "      <td>8</td>\n",
       "    </tr>\n",
       "    <tr>\n",
       "      <th>2</th>\n",
       "      <td>c</td>\n",
       "      <td>1</td>\n",
       "      <td>2</td>\n",
       "    </tr>\n",
       "  </tbody>\n",
       "</table>\n",
       "</div>"
      ],
      "text/plain": [
       "  col1  col2  col3\n",
       "0    a     5     6\n",
       "1    b     7     8\n",
       "2    c     1     2"
      ]
     },
     "execution_count": 20,
     "metadata": {},
     "output_type": "execute_result"
    }
   ],
   "source": [
    "# create an empty list\n",
    "data = []\n",
    "\n",
    "# TODO: add List of lists to data, forexample: data=[['test_1', 1],['test_2', 2]]\n",
    "# put your code here\n",
    "data = [['a', 5, 6], ['b', 7, 8], ['c', 1, 2]]\n",
    "# TODO: create a dataframe from the data list, then print it\n",
    "# put your code here\n",
    "df = pd.DataFrame(data, columns=['col1', 'col2', 'col3'])\n",
    "df"
   ]
  },
  {
   "cell_type": "markdown",
   "id": "3334fc5d-bdb7-4e71-9b3b-05a4d31ab7d6",
   "metadata": {},
   "source": [
    "\n",
    "# <div style=\"direction:rtl\"><font face=\"IRANSans\" size=\"2\">قسمت دوم- ساخت دیتافریم با دیکشنری از آرایه ها و لیست ها</div>\n",
    "\n",
    "## <div style=\"direction:rtl\"><font face=\"IRANSans\" size=\"2\"> سوال-۱- دیکشنری از لیست </div>\n",
    "\n",
    "\n",
    "<div style=\"direction:rtl\"><font face=\"IRANSans\" size=\"2\"> در این تمرین شما باید:</div>\n",
    "<div style=\"direction:rtl\"><font face=\"IRANSans\" size=\"2\"> &emsp;۱- دیکشنری از لیست ها بسازید</div>\n",
    "<div style=\"direction:rtl\"><font face=\"IRANSans\" size=\"2\"> &emsp;۲- از لیست دیتافریم بسازید و برای هر نمونه اسمی بگذارید</div>\n",
    "<div style=\"direction:rtl\"><font face=\"IRANSans\" size=\"2\"> &emsp;۳- آن را پرینت کنید</div>"
   ]
  },
  {
   "cell_type": "code",
   "execution_count": 25,
   "id": "4abde381-69de-405a-9ba2-82892208f8c3",
   "metadata": {},
   "outputs": [
    {
     "data": {
      "text/html": [
       "<div>\n",
       "<style scoped>\n",
       "    .dataframe tbody tr th:only-of-type {\n",
       "        vertical-align: middle;\n",
       "    }\n",
       "\n",
       "    .dataframe tbody tr th {\n",
       "        vertical-align: top;\n",
       "    }\n",
       "\n",
       "    .dataframe thead th {\n",
       "        text-align: right;\n",
       "    }\n",
       "</style>\n",
       "<table border=\"1\" class=\"dataframe\">\n",
       "  <thead>\n",
       "    <tr style=\"text-align: right;\">\n",
       "      <th></th>\n",
       "      <th>name</th>\n",
       "      <th>age</th>\n",
       "      <th>city</th>\n",
       "    </tr>\n",
       "  </thead>\n",
       "  <tbody>\n",
       "    <tr>\n",
       "      <th>0</th>\n",
       "      <td>Mammad</td>\n",
       "      <td>28</td>\n",
       "      <td>shz</td>\n",
       "    </tr>\n",
       "    <tr>\n",
       "      <th>1</th>\n",
       "      <td>Ali</td>\n",
       "      <td>22</td>\n",
       "      <td>teh</td>\n",
       "    </tr>\n",
       "    <tr>\n",
       "      <th>2</th>\n",
       "      <td>Gholi</td>\n",
       "      <td>32</td>\n",
       "      <td>bus</td>\n",
       "    </tr>\n",
       "  </tbody>\n",
       "</table>\n",
       "</div>"
      ],
      "text/plain": [
       "     name  age city\n",
       "0  Mammad   28  shz\n",
       "1     Ali   22  teh\n",
       "2   Gholi   32  bus"
      ]
     },
     "execution_count": 25,
     "metadata": {},
     "output_type": "execute_result"
    }
   ],
   "source": [
    "# TODO: create a Dict of List, forexample: data ={'test':['num_1','num_2'], 'num':[1, 2]}\n",
    "# put your code here\n",
    "data = {'name':['Mammad', 'Ali', 'Gholi'], 'age': [28, 22, 32], 'city': ['shz', 'teh', 'bus']}\n",
    "# TODO: create a dataframe from your created list, and set index for each sample\n",
    "# put your code here\n",
    "df = pd.DataFrame(data)\n",
    "df"
   ]
  },
  {
   "cell_type": "markdown",
   "id": "e6271aed-efbc-42d5-b05b-5f2c721f0cb1",
   "metadata": {},
   "source": [
    "## <div style=\"direction:rtl\"><font face=\"IRANSans\" size=\"2\"> سوال-۲- لیستی از دیکشنری ها </div>\n",
    "<div style=\"direction:rtl\">تصور کنید که ما ۴ تا ویژگی داریم. گاهی اوقات اگر مقداری برای یکی از این ویژگیها در نظر نگیریم، در این صورت خود کتابخانه پانداز برای آن ویژگی مقدار NaN را در نظر میگیرد </div>\n",
    "<br>\n",
    "\n",
    "<div style=\"direction:rtl\"><font face=\"IRANSans\" size=\"2\"> در این تمرین شما باید:</div>\n",
    "<div style=\"direction:rtl\"><font face=\"IRANSans\" size=\"2\"> &emsp;۱- لیستی از دیکشنری ها بسازید و بعضی از مقادیر را خالی بگذارید</div>\n",
    "<div style=\"direction:rtl\"><font face=\"IRANSans\" size=\"2\"> &emsp;۲- از لیست دیتافریم بسازید </div>\n",
    "<div style=\"direction:rtl\"><font face=\"IRANSans\" size=\"2\"> &emsp;۳- آن را پرینت کنید</div>\n"
   ]
  },
  {
   "cell_type": "code",
   "execution_count": 27,
   "id": "dbdeaeb7-4a9c-43f7-8b61-3670701f4249",
   "metadata": {},
   "outputs": [
    {
     "data": {
      "text/html": [
       "<div>\n",
       "<style scoped>\n",
       "    .dataframe tbody tr th:only-of-type {\n",
       "        vertical-align: middle;\n",
       "    }\n",
       "\n",
       "    .dataframe tbody tr th {\n",
       "        vertical-align: top;\n",
       "    }\n",
       "\n",
       "    .dataframe thead th {\n",
       "        text-align: right;\n",
       "    }\n",
       "</style>\n",
       "<table border=\"1\" class=\"dataframe\">\n",
       "  <thead>\n",
       "    <tr style=\"text-align: right;\">\n",
       "      <th></th>\n",
       "      <th>name</th>\n",
       "      <th>age</th>\n",
       "      <th>city</th>\n",
       "    </tr>\n",
       "  </thead>\n",
       "  <tbody>\n",
       "    <tr>\n",
       "      <th>0</th>\n",
       "      <td>Mammad</td>\n",
       "      <td>28.0</td>\n",
       "      <td>shz</td>\n",
       "    </tr>\n",
       "    <tr>\n",
       "      <th>1</th>\n",
       "      <td>Ali</td>\n",
       "      <td>NaN</td>\n",
       "      <td>teh</td>\n",
       "    </tr>\n",
       "    <tr>\n",
       "      <th>2</th>\n",
       "      <td>Gholi</td>\n",
       "      <td>32.0</td>\n",
       "      <td>NaN</td>\n",
       "    </tr>\n",
       "  </tbody>\n",
       "</table>\n",
       "</div>"
      ],
      "text/plain": [
       "     name   age city\n",
       "0  Mammad  28.0  shz\n",
       "1     Ali   NaN  teh\n",
       "2   Gholi  32.0  NaN"
      ]
     },
     "execution_count": 27,
     "metadata": {},
     "output_type": "execute_result"
    }
   ],
   "source": [
    "# TODO: create a List of Dicts, forexample: data=[{'test': 'test_1', 'Num': 1, 'NextNum': 2}, {'test': 'test_2', 'NextNum': 3}]\n",
    "# put your code here\n",
    "data=[{'name': 'Mammad', 'age': 28, 'city': 'shz'}, {'name': 'Ali', 'city': 'teh'}, {'name': 'Gholi', 'age': 32}]\n",
    "# TODO: create a dataframe from your created list\n",
    "# put your code here\n",
    "\n",
    "df = pd.DataFrame(data)\n",
    "df"
   ]
  },
  {
   "cell_type": "markdown",
   "id": "5747a7d1-5789-4213-898b-f38689acb849",
   "metadata": {},
   "source": [
    "\n",
    "# <div style=\"direction:rtl\"><font face=\"IRANSans\" size=\"2\">قسمت سوم- ساخت دیتافریم با دیکشنری از series ها</div>\n",
    "\n",
    "## <div style=\"direction:rtl\"><font face=\"IRANSans\" size=\"2\">سوال-۱- ساخت دیکشنری ازseries ها </div>\n",
    "\n",
    "<div style=\"direction:rtl\">در Pandas، ما میتوانیم با استفاده از pd.Series یک سری از داده ها درست کنیم.</div>\n",
    "<br>\n",
    "\n",
    "<div style=\"direction:rtl\">در این تمرین شما باید:</div>\n",
    "<div style=\"direction:rtl\">&emsp;۱- یک دیکشنری از سری ها درست کنیدو برای هر ایندکس آن نامگذاری کنید</div>\n",
    "<div style=\"direction:rtl\">&emsp;۲- از دیکشنری ساخته شده دیتافریم بسازید </div>\n",
    "<div style=\"direction:rtl\">&emsp;۳- آن را پرینت کنید</div>"
   ]
  },
  {
   "cell_type": "code",
   "execution_count": 38,
   "id": "3a91bdaa-a50b-4ca3-a791-decaf4e26c7c",
   "metadata": {},
   "outputs": [
    {
     "data": {
      "text/html": [
       "<div>\n",
       "<style scoped>\n",
       "    .dataframe tbody tr th:only-of-type {\n",
       "        vertical-align: middle;\n",
       "    }\n",
       "\n",
       "    .dataframe tbody tr th {\n",
       "        vertical-align: top;\n",
       "    }\n",
       "\n",
       "    .dataframe thead th {\n",
       "        text-align: right;\n",
       "    }\n",
       "</style>\n",
       "<table border=\"1\" class=\"dataframe\">\n",
       "  <thead>\n",
       "    <tr style=\"text-align: right;\">\n",
       "      <th></th>\n",
       "      <th>Mammmad</th>\n",
       "      <th>Ali</th>\n",
       "    </tr>\n",
       "  </thead>\n",
       "  <tbody>\n",
       "    <tr>\n",
       "      <th>city</th>\n",
       "      <td>shz</td>\n",
       "      <td>teh</td>\n",
       "    </tr>\n",
       "    <tr>\n",
       "      <th>age</th>\n",
       "      <td>28</td>\n",
       "      <td>22</td>\n",
       "    </tr>\n",
       "  </tbody>\n",
       "</table>\n",
       "</div>"
      ],
      "text/plain": [
       "     Mammmad  Ali\n",
       "city     shz  teh\n",
       "age       28   22"
      ]
     },
     "execution_count": 38,
     "metadata": {},
     "output_type": "execute_result"
    }
   ],
   "source": [
    "# TODO: create a Dict of Series, forexample: data = {'Name': pd.Series(['test_1', 'test_2'], index=['Test_1', 'Test_2']),'Num': pd.Series([1, 2], index=['Test_1', 'Test_2'])}\n",
    "# put your code here\n",
    "data = {'Mammmad': pd.Series(['shz', 28], index=['city', 'age']),'Ali': pd.Series(['teh', 22], index=['city', 'age'])}\n",
    "# TODO: create a dataframe\n",
    "# put your code here\n",
    "df = pd.DataFrame(data)\n",
    "df\n",
    "\n",
    "# NOTICE: try to solve this problem with NaN values to get more familiar with pandas"
   ]
  },
  {
   "cell_type": "markdown",
   "id": "b856d7b4-c859-4659-9a31-870f3ff162a9",
   "metadata": {},
   "source": [
    "# <div style=\"direction:rtl\"><font face=\"IRANSans\" size=\"2\">قسمت چهارم- پردازش ستون ها</div>\n",
    "\n",
    "<div style=\"direction:rtl\"><font face=\"IRANSans\" size=\"2\"> در این قسمت ما به اضافه کردن، پاک کردن و انتخاب یک ستون میپردازیم:</div>\n",
    "\n",
    "\n",
    "## <div style=\"direction:rtl\"><font face=\"IRANSans\" size=\"2\">سوال-۱- اضافه کردن ستون </div>\n",
    "\n",
    "<div style=\"direction:rtl\"><font face=\"IRANSans\" size=\"2\"> در این تمرین شما باید:</div>\n",
    "<div style=\"direction:rtl\"><font face=\"IRANSans\" size=\"2\"> &emsp;۱- یک ستون جدید به اختیار خود برای دیتافریم بسازید</div>\n",
    "<div style=\"direction:rtl\"><font face=\"IRANSans\" size=\"2\"> &emsp;۳- آن را پرینت کنید</div>\n",
    "\n",
    "### <div style=\"direction:rtl\"><font face=\"IRANSans\" size=\"2\"> توجه کنید که میتوانید از دیتافریم های ساخته شده بالا استفاده کنید.</div>\n"
   ]
  },
  {
   "cell_type": "code",
   "execution_count": 48,
   "id": "56798a7b-39d2-4f68-b747-c2ab418e9b3a",
   "metadata": {},
   "outputs": [
    {
     "name": "stdout",
     "output_type": "stream",
     "text": [
      "  col1  col2  col3\n",
      "0    a     2     3\n",
      "1    b    12    13\n",
      "2    c    22    23\n",
      "  col1  col2  col3  col4\n",
      "0    a     2     3     4\n",
      "1    b    12    13    14\n",
      "2    c    22    23    24\n"
     ]
    }
   ],
   "source": [
    "# TODO: add column, forexample by using series: df ['added_col'] = pd.Series(['test_1', 'test_2'], index=['Test_1', 'Test_2'])\n",
    "# put your code here\n",
    "data = [['a', 2, 3], ['b', 12, 13], ['c', 22, 23]]\n",
    "df = pd.DataFrame(data, columns=['col1', 'col2', 'col3'])\n",
    "print(df)\n",
    "# TODO: print the dataframe\n",
    "# put your code here\n",
    "df['col4'] = pd.Series([4, 14, 24])\n",
    "print(df)"
   ]
  },
  {
   "cell_type": "markdown",
   "id": "3a5e6944-6259-4027-9901-6c70beb8b6ed",
   "metadata": {},
   "source": [
    "## <div style=\"direction:rtl\"><font face=\"IRANSans\" size=\"2\">  سوال-۲- اضافه کردن ستون با استفاده از ستون ها دیگر</div>\n",
    "\n",
    "<div style=\"direction:rtl\">ما میتوانیم از ستون های موجود دیگر در دیتافریم برای ساخت ستون جدید استفاده کنیم. بطور مثال اگر دو تا ستون عددی داشته باشیم، میتوانیم ستون جدیدی با استفاده از جمع آن دو ستون عددی بسازیم و به دیتافریم اضافه کنیم.</div>\n",
    "\n",
    "<div style=\"direction:rtl\">در این تمرین شما باید:</div>\n",
    "<div style=\"direction:rtl\">&emsp;۱- یک ستون جدید با استفاده از ستون های موجود برای دیتافریم بسازید</div>\n",
    "<div style=\"direction:rtl\">&emsp;۳- آن را پرینت کنید</div>\n",
    "\n",
    "### <div style=\"direction:rtl\"><font face=\"IRANSans\" size=\"2\">توجه کنید که میتوانید از دیتافریم های ساخته شده بالا استفاده کنید.</div>"
   ]
  },
  {
   "cell_type": "code",
   "execution_count": 56,
   "id": "b4138bbb-bfbd-4928-9507-6500694beca4",
   "metadata": {},
   "outputs": [
    {
     "name": "stdout",
     "output_type": "stream",
     "text": [
      "  col1  col2  col3\n",
      "0    a     2     3\n",
      "1    b    12    13\n",
      "2    c    22    23\n"
     ]
    },
    {
     "data": {
      "text/html": [
       "<div>\n",
       "<style scoped>\n",
       "    .dataframe tbody tr th:only-of-type {\n",
       "        vertical-align: middle;\n",
       "    }\n",
       "\n",
       "    .dataframe tbody tr th {\n",
       "        vertical-align: top;\n",
       "    }\n",
       "\n",
       "    .dataframe thead th {\n",
       "        text-align: right;\n",
       "    }\n",
       "</style>\n",
       "<table border=\"1\" class=\"dataframe\">\n",
       "  <thead>\n",
       "    <tr style=\"text-align: right;\">\n",
       "      <th></th>\n",
       "      <th>col1</th>\n",
       "      <th>col2</th>\n",
       "      <th>col3</th>\n",
       "      <th>sum</th>\n",
       "    </tr>\n",
       "  </thead>\n",
       "  <tbody>\n",
       "    <tr>\n",
       "      <th>0</th>\n",
       "      <td>a</td>\n",
       "      <td>2</td>\n",
       "      <td>3</td>\n",
       "      <td>5</td>\n",
       "    </tr>\n",
       "    <tr>\n",
       "      <th>1</th>\n",
       "      <td>b</td>\n",
       "      <td>12</td>\n",
       "      <td>13</td>\n",
       "      <td>25</td>\n",
       "    </tr>\n",
       "    <tr>\n",
       "      <th>2</th>\n",
       "      <td>c</td>\n",
       "      <td>22</td>\n",
       "      <td>23</td>\n",
       "      <td>45</td>\n",
       "    </tr>\n",
       "  </tbody>\n",
       "</table>\n",
       "</div>"
      ],
      "text/plain": [
       "  col1  col2  col3  sum\n",
       "0    a     2     3    5\n",
       "1    b    12    13   25\n",
       "2    c    22    23   45"
      ]
     },
     "execution_count": 56,
     "metadata": {},
     "output_type": "execute_result"
    }
   ],
   "source": [
    "# TODO: create column using another cols\n",
    "# put your code here\n",
    "data = [['a', 2, 3], ['b', 12, 13], ['c', 22, 23]]\n",
    "df = pd.DataFrame(data, columns=['col1', 'col2', 'col3'])\n",
    "print(df)\n",
    "# TODO: print it\n",
    "# put your code here\n",
    "df['sum'] = df['col2'] + df['col3']\n",
    "df"
   ]
  },
  {
   "cell_type": "markdown",
   "id": "b6212e81-2441-4a42-9cbf-58faa82fd04d",
   "metadata": {},
   "source": [
    "## <div style=\"direction:rtl\"><font face=\"IRANSans\" size=\"2\">  سوال-۳- انتخاب کردن ستون </div>\n",
    "\n",
    "<div style=\"direction:rtl\"><font face=\"IRANSans\" size=\"2\"> در این تمرین شما باید:</div>\n",
    "<div style=\"direction:rtl\">&emsp;۱- یک ستون از بین ستون های موجود انتخاب کنید</div>\n",
    "<div style=\"direction:rtl\">&emsp;۳- آن را پرینت کنید</div>\n",
    "\n",
    "### <div style=\"direction:rtl\"><font face=\"IRANSans\" size=\"2\"> توجه کنید که میتوانید از دیتافریم های ساخته شده بالا استفاده کنید.</div>"
   ]
  },
  {
   "cell_type": "code",
   "execution_count": 75,
   "id": "c8cf804a-4864-472f-ad96-eae7eafd1faa",
   "metadata": {},
   "outputs": [
    {
     "name": "stdout",
     "output_type": "stream",
     "text": [
      "  col1  col2  col3\n",
      "0    a     2     3\n",
      "1    b    12    13\n",
      "2    c    22    23\n",
      "----------------------\n",
      "0    a\n",
      "1    b\n",
      "2    c\n",
      "Name: col1, dtype: object\n",
      "----------------------\n",
      "0    a\n",
      "1    b\n",
      "2    c\n",
      "Name: col1, dtype: object\n",
      "----------------------\n",
      "0    a\n",
      "1    b\n",
      "2    c\n",
      "Name: col1, dtype: object\n"
     ]
    }
   ],
   "source": [
    "# TODO: select a column\n",
    "# put your code here\n",
    "data = [['a', 2, 3], ['b', 12, 13], ['c', 22, 23]]\n",
    "df = pd.DataFrame(data, columns=['col1', 'col2', 'col3'])\n",
    "print(df)\n",
    "# TODO: print it\n",
    "# put your code here\n",
    "print('----------------------')\n",
    "print(df.col1)\n",
    "print('----------------------')\n",
    "print(df.iloc[:, 0])\n",
    "print('----------------------')\n",
    "print(df.loc[:, 'col1'])"
   ]
  },
  {
   "cell_type": "markdown",
   "id": "f4989a58-e07f-4fa2-b10f-8952670ca690",
   "metadata": {},
   "source": [
    "## <div style=\"direction:rtl\"><font face=\"IRANSans\" size=\"2\">  سوال-۴- حذف کردن ستون </div>\n",
    "\n",
    "<div style=\"direction:rtl\">ما میتوانیم ستون را با استفاده از روش های زیر حدف کنیم:</div>\n",
    "<div style=\"direction:rtl\">&emsp;۱- تابع del</div>\n",
    "<div style=\"direction:rtl\">&emsp;۲- تابع pop</div>\n",
    "<div style=\"direction:rtl\">&emsp;۳- تابع drop</div>"
   ]
  },
  {
   "cell_type": "code",
   "execution_count": 103,
   "id": "0fdf756b-0c76-47e5-a927-04f2ca562a77",
   "metadata": {},
   "outputs": [
    {
     "name": "stdout",
     "output_type": "stream",
     "text": [
      "  col1  col2  col3\n",
      "0    a     2     3\n",
      "1    b    12    13\n",
      "2    c    22    23\n",
      "\n",
      "result of del:\n",
      "    col2  col3\n",
      "0     2     3\n",
      "1    12    13\n",
      "2    22    23\n",
      "\n",
      "result of pop: \n",
      "  col1  col2\n",
      "0    a     2\n",
      "1    b    12\n",
      "2    c    22\n",
      "\n",
      "result of drop: \n",
      "  col1  col2  col3\n",
      "0    a     2     3\n",
      "1    b    12    13\n",
      "2    c    22    23\t \t it is interesting that the drop is not inplace\n",
      "\n",
      "result of drop: \n",
      "  col1  col2  col3\n",
      "0    a     2     3\n",
      "1    b    12    13\n",
      "2    c    22    23\t \t it is interesting that the drop is not inplace\n",
      "\n",
      "\n",
      " the result of droping and saving in g is: \n",
      "  col1  col2\n",
      "0    a     2\n",
      "1    b    12\n"
     ]
    }
   ],
   "source": [
    "data = [['a', 2, 3], ['b', 12, 13], ['c', 22, 23]]\n",
    "df = pd.DataFrame(data, columns=['col1', 'col2', 'col3'])\n",
    "print(df)\n",
    "# TODO: delete a column using del function\n",
    "# put your code here\n",
    "del df['col1']\n",
    "print(f\"\\nresult of del:\\n {df}\")\n",
    "\n",
    "\n",
    "data = [['a', 2, 3], ['b', 12, 13], ['c', 22, 23]]\n",
    "df = pd.DataFrame(data, columns=['col1', 'col2', 'col3'])\n",
    "# TODO: delete a column using pop function\n",
    "# put your code here\n",
    "df.pop('col3')\n",
    "print(f\"\\nresult of pop: \\n{df}\")\n",
    "\n",
    "\n",
    "data = [['a', 2, 3], ['b', 12, 13], ['c', 22, 23]]\n",
    "df = pd.DataFrame(data, columns=['col1', 'col2', 'col3'])\n",
    "# TODO: delete a column using drop function\n",
    "# put your code here\n",
    "df.drop('col3', axis=1)\n",
    "g = df.drop('col3', axis=1)\n",
    "print(f\"\\nresult of drop: \\n{df}\\t \\t it is interesting that the drop is not inplace\")\n",
    "\n",
    "df.drop(2, axis=0)\n",
    "g = g.drop(2, axis=0)\n",
    "print(f\"\\nresult of drop: \\n{df}\\t \\t it is interesting that the drop is not inplace\")\n",
    "print(f\"\\n\\n the result of droping and saving in g is: \\n{g}\")\n",
    "# it is better to print the dataframe after each method to see what happen"
   ]
  },
  {
   "cell_type": "markdown",
   "id": "614e6ebc-9645-45cf-8ce7-6b67fdcddef6",
   "metadata": {},
   "source": [
    "## <div style=\"direction:rtl\"><font face=\"IRANSans\" size=\"2\">  قسمت ۵: پردازش سطر ها </div>\n",
    "<div style=\"direction:rtl\">در این قسمت ما به اضافه کردن، پاک کردن و انتخاب یک سطر میپردازیم:</div>\n",
    "\n",
    "## <div style=\"direction:rtl\"><font face=\"IRANSans\" size=\"2\">  سوال-۳- انتخاب کردن سطر </div>\n",
    "\n",
    "<div style=\"direction:rtl\">ما میتوانیم سطر را با استفاده از روش های زیر انتخاب کنیم:</div>\n",
    "<div style=\"direction:rtl\">&emsp;۱- انتخاب با label</div>\n",
    "<div style=\"direction:rtl\">&emsp;۲- انتخاب با شماره ایندکس</div>\n",
    "<div style=\"direction:rtl\">&emsp;۳- انتخاب با دو نقطه :</div>"
   ]
  },
  {
   "cell_type": "code",
   "execution_count": 118,
   "id": "7a02d7d4-b886-4a02-971f-d1ebbfb4e5ce",
   "metadata": {},
   "outputs": [
    {
     "name": "stdout",
     "output_type": "stream",
     "text": [
      "  col1  col2  col3\n",
      "0    a     2     3\n",
      "1    b    12    13\n",
      "2    c    22    23\n",
      "['a' 2 3]\n",
      "col1    a\n",
      "col2    2\n",
      "col3    3\n",
      "Name: 0, dtype: object\n",
      "col1    a\n",
      "col2    2\n",
      "col3    3\n",
      "Name: 0, dtype: object\n"
     ]
    }
   ],
   "source": [
    "data = [['a', 2, 3], ['b', 12, 13], ['c', 22, 23]]\n",
    "df = pd.DataFrame(data, columns=['col1', 'col2', 'col3'])\n",
    "print(df)\n",
    "# TODO: try to select a row by Lable-- Lable means the sample name in here \n",
    "# put your code here\n",
    "print(df.values[0])\n",
    "\n",
    "# TODO: try to select a row by integer location-- integer location means the number of index of sample\n",
    "# put your code here\n",
    "print(df.iloc[0, [0, 1, 2]])\n",
    "# TODO: using : oprator forexample print[array[4:8]]\n",
    "# put your code here\n",
    "print(df.iloc[0, :])\n",
    "# you can print the dataframe in each step to see what happen"
   ]
  },
  {
   "cell_type": "markdown",
   "id": "aaea4c80-4c66-4a20-b627-db4933dd550d",
   "metadata": {},
   "source": [
    "## <div style=\"direction:rtl\"><font face=\"IRANSans\" size=\"2\"> سوال-۲- اضافه کردن سطر </div>\n",
    "\n",
    "<div style=\"direction:rtl\">برای اضافه کردن سطر میتوانید مقادیر جدید بسازید و سپس آن را به دیتافریم اضافه کنید.</div>\n"
   ]
  },
  {
   "cell_type": "code",
   "execution_count": 135,
   "id": "72df6792-a293-45b7-9361-471e249ae365",
   "metadata": {},
   "outputs": [
    {
     "name": "stdout",
     "output_type": "stream",
     "text": [
      "the main data frame is:\n",
      "  col1  col2  col3\n",
      "0    a     2     3\n",
      "1    b    12    13\n",
      "2    c    22    23\n",
      "\n",
      "the update data frame is:\n",
      "  col1  col2  col3\n",
      "0    d    32    33\n",
      "\n",
      "the final result is:\n",
      "  col1  col2  col3\n",
      "0    a     2     3\n",
      "1    b    12    13\n",
      "2    c    22    23\n",
      "3    d    32    33\n"
     ]
    }
   ],
   "source": [
    "data = [['a', 2, 3], ['b', 12, 13], ['c', 22, 23]]\n",
    "df = pd.DataFrame(data, columns=['col1', 'col2', 'col3'])\n",
    "print(\"the main data frame is:\")\n",
    "print(df)\n",
    "# TODO: create a row using DataFrame function\n",
    "# put your code here\n",
    "df2 = pd.DataFrame([['d', 32, 33]], columns=['col1', 'col2', 'col3'])\n",
    "print(\"\\nthe update data frame is:\")\n",
    "print(df2)\n",
    "# TODO: add the created row to your dataframe, you can use append function\n",
    "# put your code here\n",
    "\n",
    "df3 = pd.concat([df, df2], ignore_index=True)\n",
    "print(\"\\nthe final result is:\")\n",
    "print(df3)"
   ]
  },
  {
   "cell_type": "markdown",
   "id": "f193589b-ff06-4f86-80a2-d36b35b8b6bc",
   "metadata": {},
   "source": [
    "## <div style=\"direction:rtl\"><font face=\"IRANSans\" size=\"2\"> سوال-۳- پاک کردن سطر </div>\n",
    "\n",
    "<div style=\"direction:rtl\">برای پاک کردن سطر، از تابع drop همراه شماره نمونه استفاده میشود.</div>"
   ]
  },
  {
   "cell_type": "code",
   "execution_count": 140,
   "id": "8c97d92a-bfdb-457c-8c61-9974775b3c46",
   "metadata": {},
   "outputs": [
    {
     "name": "stdout",
     "output_type": "stream",
     "text": [
      "  col1  col2  col3\n",
      "0    a     2     3\n",
      "1    b    12    13\n",
      "2    c    22    23\n",
      "  col1  col2  col3\n",
      "0    a     2     3\n",
      "2    c    22    23\n"
     ]
    }
   ],
   "source": [
    "data = [['a', 2, 3], ['b', 12, 13], ['c', 22, 23]]\n",
    "df = pd.DataFrame(data, columns=['col1', 'col2', 'col3'])\n",
    "print(df)\n",
    "# TODO: delete a row using drop function and the lable\n",
    "# put your code here\n",
    "g = df.drop([1])\n",
    "print(g)\n",
    "# TODO: print your dataframe\n",
    "# put your code here\n"
   ]
  },
  {
   "cell_type": "markdown",
   "id": "165dee2c-e580-41bf-9f50-32fb682ae4c4",
   "metadata": {},
   "source": [
    "# FINITO"
   ]
  }
 ],
 "metadata": {
  "kernelspec": {
   "display_name": "Python 3 (ipykernel)",
   "language": "python",
   "name": "python3"
  },
  "language_info": {
   "codemirror_mode": {
    "name": "ipython",
    "version": 3
   },
   "file_extension": ".py",
   "mimetype": "text/x-python",
   "name": "python",
   "nbconvert_exporter": "python",
   "pygments_lexer": "ipython3",
   "version": "3.13.0"
  }
 },
 "nbformat": 4,
 "nbformat_minor": 5
}
