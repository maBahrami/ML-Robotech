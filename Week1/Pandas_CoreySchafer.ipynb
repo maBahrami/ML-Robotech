{
 "cells": [
  {
   "cell_type": "markdown",
   "id": "fcde479a-23d0-4c8e-9d22-1c00b587d8b4",
   "metadata": {},
   "source": [
    "# Pandas Dataframe handling\n",
    "\n",
    "## This is a part of the Pandas tutorial from [Corey Schafer YouTube channel](https://youtu.be/Lw2rlcxScZY?si=PyFMRY9K76B4ei36)"
   ]
  },
  {
   "cell_type": "code",
   "execution_count": 6,
   "id": "94fe88e3-8548-4a8e-b7b1-bfc8c1976759",
   "metadata": {},
   "outputs": [],
   "source": [
    "people = {\n",
    "    \"first\": [\"Corey\", \"Jane\", \"John\"],\n",
    "    \"last\": [\"Schafer\", \"Doe\", \"Doe\"],\n",
    "    \"email\": [\"CoreyMSchafer@gmail.com\", \"JaneDoe@email.com\", \"JohnDoe@email.com\"]\n",
    "}"
   ]
  },
  {
   "cell_type": "code",
   "execution_count": 65,
   "id": "0e27d191-76f7-45b9-aa2a-4e0e13aa4566",
   "metadata": {},
   "outputs": [],
   "source": [
    "import pandas as pd\n",
    "import numpy as np"
   ]
  },
  {
   "cell_type": "code",
   "execution_count": 10,
   "id": "746e5ec7-91de-418a-9f80-cdc62b5e48fb",
   "metadata": {},
   "outputs": [],
   "source": [
    "df = pd.DataFrame(people)"
   ]
  },
  {
   "cell_type": "code",
   "execution_count": 11,
   "id": "b391d14c-d4b0-4e29-8bda-6c38d87a9607",
   "metadata": {},
   "outputs": [
    {
     "data": {
      "text/html": [
       "<div>\n",
       "<style scoped>\n",
       "    .dataframe tbody tr th:only-of-type {\n",
       "        vertical-align: middle;\n",
       "    }\n",
       "\n",
       "    .dataframe tbody tr th {\n",
       "        vertical-align: top;\n",
       "    }\n",
       "\n",
       "    .dataframe thead th {\n",
       "        text-align: right;\n",
       "    }\n",
       "</style>\n",
       "<table border=\"1\" class=\"dataframe\">\n",
       "  <thead>\n",
       "    <tr style=\"text-align: right;\">\n",
       "      <th></th>\n",
       "      <th>first</th>\n",
       "      <th>last</th>\n",
       "      <th>email</th>\n",
       "    </tr>\n",
       "  </thead>\n",
       "  <tbody>\n",
       "    <tr>\n",
       "      <th>0</th>\n",
       "      <td>Corey</td>\n",
       "      <td>Schafer</td>\n",
       "      <td>CoreyMSchafer@gmail.com</td>\n",
       "    </tr>\n",
       "    <tr>\n",
       "      <th>1</th>\n",
       "      <td>Jane</td>\n",
       "      <td>Doe</td>\n",
       "      <td>JaneDoe@email.com</td>\n",
       "    </tr>\n",
       "    <tr>\n",
       "      <th>2</th>\n",
       "      <td>John</td>\n",
       "      <td>Doe</td>\n",
       "      <td>JohnDoe@email.com</td>\n",
       "    </tr>\n",
       "  </tbody>\n",
       "</table>\n",
       "</div>"
      ],
      "text/plain": [
       "   first     last                    email\n",
       "0  Corey  Schafer  CoreyMSchafer@gmail.com\n",
       "1   Jane      Doe        JaneDoe@email.com\n",
       "2   John      Doe        JohnDoe@email.com"
      ]
     },
     "execution_count": 11,
     "metadata": {},
     "output_type": "execute_result"
    }
   ],
   "source": [
    "df"
   ]
  },
  {
   "cell_type": "markdown",
   "id": "f4517d65-9ebc-4a12-806b-18e834c2b283",
   "metadata": {},
   "source": [
    "## want to filter people whose last name is Doe"
   ]
  },
  {
   "cell_type": "code",
   "execution_count": 14,
   "id": "e4b72c05-3994-4582-961a-4d13e30d0b8f",
   "metadata": {},
   "outputs": [
    {
     "data": {
      "text/plain": [
       "0    False\n",
       "1     True\n",
       "2     True\n",
       "Name: last, dtype: bool"
      ]
     },
     "execution_count": 14,
     "metadata": {},
     "output_type": "execute_result"
    }
   ],
   "source": [
    "filt = df['last'] == \"Doe\"\n",
    "filt"
   ]
  },
  {
   "cell_type": "code",
   "execution_count": 17,
   "id": "9d93698b-9f93-4b0c-adbf-195d5f7fb1d2",
   "metadata": {},
   "outputs": [
    {
     "data": {
      "text/html": [
       "<div>\n",
       "<style scoped>\n",
       "    .dataframe tbody tr th:only-of-type {\n",
       "        vertical-align: middle;\n",
       "    }\n",
       "\n",
       "    .dataframe tbody tr th {\n",
       "        vertical-align: top;\n",
       "    }\n",
       "\n",
       "    .dataframe thead th {\n",
       "        text-align: right;\n",
       "    }\n",
       "</style>\n",
       "<table border=\"1\" class=\"dataframe\">\n",
       "  <thead>\n",
       "    <tr style=\"text-align: right;\">\n",
       "      <th></th>\n",
       "      <th>first</th>\n",
       "      <th>last</th>\n",
       "      <th>email</th>\n",
       "    </tr>\n",
       "  </thead>\n",
       "  <tbody>\n",
       "    <tr>\n",
       "      <th>1</th>\n",
       "      <td>Jane</td>\n",
       "      <td>Doe</td>\n",
       "      <td>JaneDoe@email.com</td>\n",
       "    </tr>\n",
       "    <tr>\n",
       "      <th>2</th>\n",
       "      <td>John</td>\n",
       "      <td>Doe</td>\n",
       "      <td>JohnDoe@email.com</td>\n",
       "    </tr>\n",
       "  </tbody>\n",
       "</table>\n",
       "</div>"
      ],
      "text/plain": [
       "  first last              email\n",
       "1  Jane  Doe  JaneDoe@email.com\n",
       "2  John  Doe  JohnDoe@email.com"
      ]
     },
     "execution_count": 17,
     "metadata": {},
     "output_type": "execute_result"
    }
   ],
   "source": [
    "df[filt]"
   ]
  },
  {
   "cell_type": "markdown",
   "id": "19df6f0e-f688-4cdb-a384-30b27db6b507",
   "metadata": {},
   "source": [
    "## Alternative:"
   ]
  },
  {
   "cell_type": "code",
   "execution_count": 18,
   "id": "2f9401bd-b097-4207-977e-1bcc0bd7fa7b",
   "metadata": {},
   "outputs": [
    {
     "data": {
      "text/plain": [
       "1    JaneDoe@email.com\n",
       "2    JohnDoe@email.com\n",
       "Name: email, dtype: object"
      ]
     },
     "execution_count": 18,
     "metadata": {},
     "output_type": "execute_result"
    }
   ],
   "source": [
    "df.loc[filt, 'email']"
   ]
  },
  {
   "cell_type": "markdown",
   "id": "0bf8441e-40de-404e-8be3-8560f5cc4d6a",
   "metadata": {},
   "source": [
    "\n",
    "\n",
    "## AND (&)  OR (|)\n",
    "\n",
    "#### find the peron whose name is John and the last name is Doe"
   ]
  },
  {
   "cell_type": "code",
   "execution_count": 25,
   "id": "5e1cad26-7e22-407a-8297-c57899531155",
   "metadata": {},
   "outputs": [
    {
     "data": {
      "text/plain": [
       "0    False\n",
       "1    False\n",
       "2     True\n",
       "dtype: bool"
      ]
     },
     "execution_count": 25,
     "metadata": {},
     "output_type": "execute_result"
    }
   ],
   "source": [
    "filt2 = (df['first'] == 'John') & (df['last'] == 'Doe')\n",
    "filt2"
   ]
  },
  {
   "cell_type": "code",
   "execution_count": 27,
   "id": "584b5652-e173-4993-b26c-b8d96695d979",
   "metadata": {},
   "outputs": [
    {
     "data": {
      "text/plain": [
       "2    JohnDoe@email.com\n",
       "Name: email, dtype: object"
      ]
     },
     "execution_count": 27,
     "metadata": {},
     "output_type": "execute_result"
    }
   ],
   "source": [
    "df.loc[filt2, 'email']"
   ]
  },
  {
   "cell_type": "markdown",
   "id": "b56ef911-ac6e-43db-bde2-58684926c65e",
   "metadata": {},
   "source": [
    "## How to negate the filter\n",
    "#### using ~ before the filer will negate it"
   ]
  },
  {
   "cell_type": "code",
   "execution_count": 28,
   "id": "bfe6cae7-bdda-4c64-9b7b-e13bb0b16e68",
   "metadata": {},
   "outputs": [
    {
     "data": {
      "text/plain": [
       "0    CoreyMSchafer@gmail.com\n",
       "1          JaneDoe@email.com\n",
       "Name: email, dtype: object"
      ]
     },
     "execution_count": 28,
     "metadata": {},
     "output_type": "execute_result"
    }
   ],
   "source": [
    "df.loc[~filt2, 'email']"
   ]
  },
  {
   "cell_type": "markdown",
   "id": "c0192610-fd92-4242-a4c5-1bd69cc4d795",
   "metadata": {},
   "source": [
    "## Filtering based on a list"
   ]
  },
  {
   "cell_type": "code",
   "execution_count": 67,
   "id": "b8beb600-a9d0-4d52-b257-53b2b3f40fa1",
   "metadata": {},
   "outputs": [],
   "source": [
    "data = {\n",
    "    \"first\": [\"A\", \"B\", \"C\", \"D\", \"E\", \"F\"],\n",
    "    \"last\": [\"a\", \"b\", \"c\", \"d\", \"e\", \"f\"],\n",
    "    \"age\": [10, 23, 34, 41, 15, 29],\n",
    "    \"country\": [\"usa\", \"ind\", \"usa\", \"can\", \"ger\", \"usa\"],\n",
    "    \"languages\": [\"C;C++;Python;C#\", \"C++;Julia\", \"Java\", \"Java;R;Python\", \"C;R;C++\", np.nan]\n",
    "}"
   ]
  },
  {
   "cell_type": "code",
   "execution_count": 68,
   "id": "ce994523-ac70-45dc-a842-76674f1acd9d",
   "metadata": {},
   "outputs": [
    {
     "data": {
      "text/html": [
       "<div>\n",
       "<style scoped>\n",
       "    .dataframe tbody tr th:only-of-type {\n",
       "        vertical-align: middle;\n",
       "    }\n",
       "\n",
       "    .dataframe tbody tr th {\n",
       "        vertical-align: top;\n",
       "    }\n",
       "\n",
       "    .dataframe thead th {\n",
       "        text-align: right;\n",
       "    }\n",
       "</style>\n",
       "<table border=\"1\" class=\"dataframe\">\n",
       "  <thead>\n",
       "    <tr style=\"text-align: right;\">\n",
       "      <th></th>\n",
       "      <th>first</th>\n",
       "      <th>last</th>\n",
       "      <th>age</th>\n",
       "      <th>country</th>\n",
       "      <th>languages</th>\n",
       "    </tr>\n",
       "  </thead>\n",
       "  <tbody>\n",
       "    <tr>\n",
       "      <th>0</th>\n",
       "      <td>A</td>\n",
       "      <td>a</td>\n",
       "      <td>10</td>\n",
       "      <td>usa</td>\n",
       "      <td>C;C++;Python;C#</td>\n",
       "    </tr>\n",
       "    <tr>\n",
       "      <th>1</th>\n",
       "      <td>B</td>\n",
       "      <td>b</td>\n",
       "      <td>23</td>\n",
       "      <td>ind</td>\n",
       "      <td>C++;Julia</td>\n",
       "    </tr>\n",
       "    <tr>\n",
       "      <th>2</th>\n",
       "      <td>C</td>\n",
       "      <td>c</td>\n",
       "      <td>34</td>\n",
       "      <td>usa</td>\n",
       "      <td>Java</td>\n",
       "    </tr>\n",
       "    <tr>\n",
       "      <th>3</th>\n",
       "      <td>D</td>\n",
       "      <td>d</td>\n",
       "      <td>41</td>\n",
       "      <td>can</td>\n",
       "      <td>Java;R;Python</td>\n",
       "    </tr>\n",
       "    <tr>\n",
       "      <th>4</th>\n",
       "      <td>E</td>\n",
       "      <td>e</td>\n",
       "      <td>15</td>\n",
       "      <td>ger</td>\n",
       "      <td>C;R;C++</td>\n",
       "    </tr>\n",
       "    <tr>\n",
       "      <th>5</th>\n",
       "      <td>F</td>\n",
       "      <td>f</td>\n",
       "      <td>29</td>\n",
       "      <td>usa</td>\n",
       "      <td>NaN</td>\n",
       "    </tr>\n",
       "  </tbody>\n",
       "</table>\n",
       "</div>"
      ],
      "text/plain": [
       "  first last  age country        languages\n",
       "0     A    a   10     usa  C;C++;Python;C#\n",
       "1     B    b   23     ind        C++;Julia\n",
       "2     C    c   34     usa             Java\n",
       "3     D    d   41     can    Java;R;Python\n",
       "4     E    e   15     ger          C;R;C++\n",
       "5     F    f   29     usa              NaN"
      ]
     },
     "execution_count": 68,
     "metadata": {},
     "output_type": "execute_result"
    }
   ],
   "source": [
    "df = pd.DataFrame(data)\n",
    "df"
   ]
  },
  {
   "cell_type": "code",
   "execution_count": 69,
   "id": "c7b3b15e-e281-46ec-a3ca-3b41ad8393b1",
   "metadata": {},
   "outputs": [
    {
     "data": {
      "text/plain": [
       "0    False\n",
       "1    False\n",
       "2     True\n",
       "3    False\n",
       "4    False\n",
       "5    False\n",
       "dtype: bool"
      ]
     },
     "execution_count": 69,
     "metadata": {},
     "output_type": "execute_result"
    }
   ],
   "source": [
    "country = ['usa', 'ger']\n",
    "filt = (df['country'].isin(country)) & (df['age']>30)\n",
    "\n",
    "filt"
   ]
  },
  {
   "cell_type": "code",
   "execution_count": 63,
   "id": "5a8e1271-d4fd-404f-a2ea-e76b1ac563f1",
   "metadata": {},
   "outputs": [
    {
     "data": {
      "text/html": [
       "<div>\n",
       "<style scoped>\n",
       "    .dataframe tbody tr th:only-of-type {\n",
       "        vertical-align: middle;\n",
       "    }\n",
       "\n",
       "    .dataframe tbody tr th {\n",
       "        vertical-align: top;\n",
       "    }\n",
       "\n",
       "    .dataframe thead th {\n",
       "        text-align: right;\n",
       "    }\n",
       "</style>\n",
       "<table border=\"1\" class=\"dataframe\">\n",
       "  <thead>\n",
       "    <tr style=\"text-align: right;\">\n",
       "      <th></th>\n",
       "      <th>first</th>\n",
       "      <th>last</th>\n",
       "      <th>age</th>\n",
       "      <th>country</th>\n",
       "      <th>languages</th>\n",
       "    </tr>\n",
       "  </thead>\n",
       "  <tbody>\n",
       "    <tr>\n",
       "      <th>2</th>\n",
       "      <td>C</td>\n",
       "      <td>c</td>\n",
       "      <td>34</td>\n",
       "      <td>usa</td>\n",
       "      <td>Java</td>\n",
       "    </tr>\n",
       "  </tbody>\n",
       "</table>\n",
       "</div>"
      ],
      "text/plain": [
       "  first last  age country languages\n",
       "2     C    c   34     usa      Java"
      ]
     },
     "execution_count": 63,
     "metadata": {},
     "output_type": "execute_result"
    }
   ],
   "source": [
    "df[filt]"
   ]
  },
  {
   "cell_type": "code",
   "execution_count": 73,
   "id": "32fd949c-8a67-495e-899d-c43199886c6f",
   "metadata": {},
   "outputs": [
    {
     "data": {
      "text/plain": [
       "0     True\n",
       "1    False\n",
       "2    False\n",
       "3     True\n",
       "4    False\n",
       "5    False\n",
       "Name: languages, dtype: bool"
      ]
     },
     "execution_count": 73,
     "metadata": {},
     "output_type": "execute_result"
    }
   ],
   "source": [
    "filt = df['languages'].str.contains('Python', na=False)\n",
    "filt"
   ]
  },
  {
   "cell_type": "code",
   "execution_count": 75,
   "id": "6280cc46-4218-4759-9ead-c5ee37b0ce71",
   "metadata": {},
   "outputs": [
    {
     "data": {
      "text/plain": [
       "0    C;C++;Python;C#\n",
       "3      Java;R;Python\n",
       "Name: languages, dtype: object"
      ]
     },
     "execution_count": 75,
     "metadata": {},
     "output_type": "execute_result"
    }
   ],
   "source": [
    "df[filt]['languages']"
   ]
  }
 ],
 "metadata": {
  "kernelspec": {
   "display_name": "Python 3 (ipykernel)",
   "language": "python",
   "name": "python3"
  },
  "language_info": {
   "codemirror_mode": {
    "name": "ipython",
    "version": 3
   },
   "file_extension": ".py",
   "mimetype": "text/x-python",
   "name": "python",
   "nbconvert_exporter": "python",
   "pygments_lexer": "ipython3",
   "version": "3.13.0"
  }
 },
 "nbformat": 4,
 "nbformat_minor": 5
}
